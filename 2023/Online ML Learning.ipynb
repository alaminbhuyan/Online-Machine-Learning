{
 "cells": [
  {
   "cell_type": "code",
   "execution_count": 1,
   "id": "76574c93",
   "metadata": {},
   "outputs": [],
   "source": [
    "import numpy as np\n",
    "from sklearn import linear_model\n",
    "import time"
   ]
  },
  {
   "cell_type": "code",
   "execution_count": 2,
   "id": "f4129485",
   "metadata": {},
   "outputs": [],
   "source": [
    "n_samples, n_features = 1, 500\n",
    "\n",
    "x = np.random.randn(n_samples, n_features)\n",
    "y = np.random.randn(n_samples)"
   ]
  },
  {
   "cell_type": "code",
   "execution_count": 3,
   "id": "b87b2e9f",
   "metadata": {},
   "outputs": [
    {
     "data": {
      "text/plain": [
       "array([[ 2.50395083e-01, -9.93664726e-01, -3.54353690e-01,\n",
       "         1.48088879e+00,  7.53070635e-01, -4.09814878e-01,\n",
       "        -2.31013378e-01,  8.89744109e-01, -8.43428446e-01,\n",
       "        -4.73157449e-01, -2.65102709e-01, -4.54507691e-01,\n",
       "        -1.83101614e-01,  1.34133283e+00,  4.79137075e-01,\n",
       "        -6.83898750e-01,  1.91273676e+00, -5.65062217e-02,\n",
       "         1.28912191e+00,  2.32279620e-01,  6.48475700e-01,\n",
       "         3.03881389e-01,  4.87394089e-01, -1.82316380e+00,\n",
       "         6.45743854e-01,  4.56630138e-01, -6.53443908e-01,\n",
       "        -1.31945497e+00,  2.63148873e-01, -4.80577196e-01,\n",
       "        -9.35959660e-02, -9.97392070e-01,  2.90928679e-01,\n",
       "        -9.19744869e-01, -5.78313001e-01,  1.00169049e+00,\n",
       "        -9.78599225e-01, -3.61673784e-01,  2.01506236e+00,\n",
       "        -9.43429417e-01,  6.45232417e-01,  2.37602697e-01,\n",
       "        -3.16057232e-01, -5.70238167e-01, -5.42727411e-01,\n",
       "        -1.73256348e-01, -1.31888980e+00,  5.18650040e-01,\n",
       "         2.50108140e-01,  5.15225748e-01,  1.72103988e+00,\n",
       "         7.02661606e-01, -4.88888163e-01,  4.43573798e-01,\n",
       "        -9.78601763e-01,  6.91035775e-01,  4.32674674e-01,\n",
       "         3.39378923e-02,  1.25967392e+00, -3.14173496e-01,\n",
       "        -1.24176952e-01, -7.75156481e-01,  8.49122400e-01,\n",
       "         7.85842642e-01,  4.16888339e-02,  1.10114852e+00,\n",
       "        -1.58806910e-02, -8.12364187e-01,  1.36267207e+00,\n",
       "        -5.58702108e-01, -1.76854868e-02,  1.76631556e+00,\n",
       "         9.20662371e-01,  1.37258007e+00, -9.65844216e-01,\n",
       "        -1.80928968e+00,  2.75066952e+00, -1.32750473e+00,\n",
       "        -5.47338976e-01,  3.65638711e-01,  1.51577594e+00,\n",
       "         5.84653230e-01,  1.42442019e+00, -7.32153541e-01,\n",
       "         1.82174291e+00,  5.94576456e-01,  1.13050918e+00,\n",
       "         5.42378646e-01, -9.56938316e-01, -1.07147742e+00,\n",
       "         6.16790586e-01, -6.63744386e-02, -4.21044336e-01,\n",
       "        -1.59540705e+00, -1.83353407e-02,  3.50932961e-01,\n",
       "         3.83841716e-01,  1.73542928e+00, -1.28965798e+00,\n",
       "        -9.51956348e-01, -7.72374971e-01, -2.20701066e-01,\n",
       "        -1.96152865e-02, -3.65936345e-01,  1.59035418e+00,\n",
       "         1.02581605e+00,  1.26926404e+00,  6.79778474e-01,\n",
       "         1.50257430e+00,  2.05877277e-02,  9.85073102e-01,\n",
       "        -2.58364199e-01, -1.09933501e+00, -1.09993095e+00,\n",
       "        -2.05807309e-01, -7.04741091e-01,  2.18713769e-01,\n",
       "        -1.30653467e+00,  3.27266924e-01,  9.72901220e-01,\n",
       "        -8.24256764e-01,  7.13881520e-03,  7.35644069e-01,\n",
       "         1.17559545e+00,  7.38786616e-01, -1.52926980e+00,\n",
       "        -8.40297859e-01,  5.56759438e-01,  1.05656198e+00,\n",
       "        -8.43220663e-01, -1.42376963e+00, -4.62891205e-01,\n",
       "        -6.52383989e-01,  2.27413586e+00,  2.30719474e-01,\n",
       "         8.11022764e-01,  3.93133897e-01,  3.56235614e-01,\n",
       "        -4.18499125e-01, -6.93190582e-01,  1.34085818e+00,\n",
       "         4.45726565e-01,  5.17314106e-01,  6.46514637e-01,\n",
       "        -1.07285902e+00, -9.06115036e-02,  7.21955342e-01,\n",
       "         7.00542537e-01, -1.02024387e-01,  1.05066805e-01,\n",
       "        -1.68264240e+00,  5.95312204e-02,  3.22534894e-01,\n",
       "        -1.72570879e+00,  1.50651509e+00,  4.74990885e-01,\n",
       "         1.29193194e+00, -3.80889230e-01, -5.64602504e-01,\n",
       "        -7.26697348e-01,  9.44723559e-01, -3.31701733e-01,\n",
       "        -5.18320810e-01,  1.28867321e-01, -1.08868120e-01,\n",
       "        -1.02103529e+00, -2.03211725e-01,  2.21908152e-01,\n",
       "        -4.49488202e-01, -5.35876196e-01,  9.07210181e-01,\n",
       "        -1.46012871e-01,  1.86483418e+00,  8.95391547e-02,\n",
       "         1.07726771e-01, -5.15859553e-01,  2.28536952e-01,\n",
       "        -1.83617666e+00,  4.77796584e-01,  7.85579075e-01,\n",
       "         6.78110958e-01, -1.06465410e+00,  3.71395496e-02,\n",
       "        -1.85812000e+00, -5.63450790e-01,  1.31384882e+00,\n",
       "        -9.05595138e-01, -7.77741949e-01,  7.48763791e-01,\n",
       "        -1.14240940e+00, -3.31770130e-01, -1.09429260e+00,\n",
       "         1.14275462e+00,  1.18973643e+00,  1.52924701e-01,\n",
       "        -1.46420759e+00,  2.38540310e-01, -1.59338236e+00,\n",
       "        -1.98361506e+00,  2.02961334e+00,  1.64502024e+00,\n",
       "         5.75096711e-01,  5.32001935e-01,  1.26299400e+00,\n",
       "        -3.48094079e-02, -8.56805645e-01, -7.02628972e-01,\n",
       "        -8.38615750e-01,  1.83874958e-01,  1.64096788e-01,\n",
       "        -1.81176353e+00, -7.54931185e-01, -1.93454138e+00,\n",
       "        -6.61070164e-01,  4.19014852e-01, -1.47671476e+00,\n",
       "        -3.44154430e-01, -1.33371779e+00, -4.27370995e-01,\n",
       "        -9.72224970e-01, -2.57517931e-01,  5.82113684e-01,\n",
       "         1.02947946e+00,  1.39490886e-01,  3.37108074e-01,\n",
       "         3.30598156e+00, -2.74061358e-01,  3.32336574e-01,\n",
       "         7.27223595e-01, -1.02088036e+00,  7.82470219e-01,\n",
       "         2.01378083e-01,  1.14493715e+00, -1.02645251e-01,\n",
       "        -2.59491712e-01, -3.75571942e-01,  8.24806975e-01,\n",
       "        -1.08664268e+00,  5.74090313e-01, -8.85941408e-01,\n",
       "         5.51478742e-01,  1.73715516e+00, -1.53873132e+00,\n",
       "        -7.08156059e-01,  1.44499562e+00, -6.75005839e-01,\n",
       "        -2.28699792e-01,  1.19940724e+00,  2.14014102e+00,\n",
       "         2.33965223e-01,  7.58197565e-01,  7.06737081e-01,\n",
       "        -6.28333805e-01, -6.97790056e-01, -5.25944251e-01,\n",
       "         5.94833171e-01,  1.92100476e-01, -2.53052132e-01,\n",
       "        -4.88097902e-02,  1.23235299e+00,  4.84706582e-01,\n",
       "        -1.66467865e+00,  5.18241224e-01, -3.58983941e-01,\n",
       "        -7.73015428e-01,  1.22199526e+00,  1.60901291e-01,\n",
       "         8.88731384e-01,  1.41223507e-01,  8.31584935e-01,\n",
       "         7.53083001e-02, -7.49051830e-01, -1.34403830e+00,\n",
       "         9.53158169e-01, -5.55799733e-01,  2.59064757e-01,\n",
       "        -1.23384903e+00, -8.25876381e-01, -3.35465095e+00,\n",
       "        -8.46791509e-01,  1.13460054e+00, -5.85523278e-01,\n",
       "         5.17995149e-01,  4.61745072e-01, -1.60413073e+00,\n",
       "         2.63032009e-01,  1.36395011e+00, -7.55117693e-01,\n",
       "         1.96656479e-01,  1.87479526e+00,  6.55618923e-02,\n",
       "        -1.43811067e+00, -8.60551310e-01, -1.38804213e+00,\n",
       "         4.52185954e-01, -1.17711723e+00, -8.80493751e-01,\n",
       "         4.67923412e-01, -7.63599359e-02,  9.29639985e-02,\n",
       "         1.06476328e+00,  1.33809568e+00,  4.97180587e-01,\n",
       "         1.80633563e+00,  5.77028438e-01, -4.64170203e-01,\n",
       "         9.82408548e-01,  4.22534535e-01,  7.25235687e-01,\n",
       "         5.44161632e-01,  1.21795803e-01,  3.59332189e-01,\n",
       "         2.16491466e-02, -1.61014416e+00,  3.08823743e+00,\n",
       "        -2.15126609e-01,  7.23968459e-01, -8.69969793e-01,\n",
       "        -8.45622972e-01, -1.82024087e-01,  2.28372107e-03,\n",
       "         1.02973301e+00,  5.49860321e-01, -1.58179205e+00,\n",
       "         2.07418181e-02,  4.27658626e-01, -8.54807546e-01,\n",
       "        -4.38405217e-01, -8.69297747e-01,  4.15516573e-01,\n",
       "        -6.16558425e-01, -7.95407091e-01,  5.59546919e-02,\n",
       "         1.96215226e+00, -2.94817383e-01, -1.08627384e+00,\n",
       "         1.67147743e-01,  1.75726734e-01,  7.26166070e-01,\n",
       "        -2.02145643e+00,  6.56774284e-01,  1.41187236e-02,\n",
       "        -1.35278569e-02, -6.44172013e-02, -1.26142421e-01,\n",
       "        -1.39208049e+00, -5.78612422e-01, -7.27885994e-01,\n",
       "         1.24240754e+00,  5.39903256e-01,  3.76220774e-01,\n",
       "        -1.75129931e+00, -7.88808318e-01, -4.47625107e-01,\n",
       "         1.37814030e+00,  2.02472906e-01,  6.45554945e-01,\n",
       "         7.34641513e-01, -2.44482088e+00,  1.27090727e+00,\n",
       "        -2.37130636e-01,  7.16109187e-01,  2.44791097e+00,\n",
       "         1.49792286e+00, -1.01896231e+00, -7.66157790e-01,\n",
       "        -1.45769855e+00,  1.27521486e-01,  3.98342108e-01,\n",
       "        -1.10219895e-01, -7.49449870e-01, -1.34511815e+00,\n",
       "         3.74270219e-01,  4.64313657e-01, -9.22935519e-01,\n",
       "         9.57667164e-01,  5.00883866e-01, -2.15444675e+00,\n",
       "        -6.27285120e-01,  1.29717409e+00,  9.70772999e-01,\n",
       "        -4.22178097e-02, -2.73059901e-01, -5.15487582e-02,\n",
       "         6.93496665e-01,  1.03616316e-01,  3.20815404e-01,\n",
       "         3.24428141e-02,  1.07684604e+00, -1.36593956e+00,\n",
       "         1.24311441e+00, -1.44846825e+00, -1.63414546e+00,\n",
       "         6.26306646e-01,  9.76378894e-01,  1.30197135e+00,\n",
       "         1.16894657e+00, -5.20654475e-01,  2.25827766e+00,\n",
       "         5.56512917e-01,  1.39282853e+00, -1.44955360e-01,\n",
       "         9.34769066e-02, -5.99921068e-01, -7.26476463e-01,\n",
       "        -1.64938723e-01,  1.27108394e+00,  2.78353571e-01,\n",
       "        -9.55745201e-01, -7.67338605e-02,  8.87527710e-01,\n",
       "        -1.63601918e+00,  2.42935364e-01,  8.83074084e-01,\n",
       "         6.90674398e-01,  1.13828387e+00, -1.59881468e+00,\n",
       "         1.99088891e+00, -1.02952362e-01, -4.60831673e-01,\n",
       "        -1.46037645e-01, -7.60684964e-01, -9.19834364e-01,\n",
       "        -6.91840347e-01,  2.38110599e+00, -5.28469498e-01,\n",
       "        -4.64043479e-01, -8.77727675e-01,  4.53225261e-01,\n",
       "        -4.78467974e-01, -4.60733518e-01, -1.02815051e+00,\n",
       "         8.06777813e-01, -4.78859492e-01,  1.10031368e-01,\n",
       "         6.72124835e-01,  1.58428940e-01, -1.95945102e+00,\n",
       "        -1.19507608e-01, -4.85258097e-01, -7.02194245e-01,\n",
       "        -1.28430216e+00, -5.20416848e-01,  2.38700721e-01,\n",
       "         1.50343493e+00, -4.48698799e-01, -9.27587446e-01,\n",
       "         6.33808618e-01, -2.04251511e+00,  1.91775495e-01,\n",
       "         2.23890102e-01, -1.39520980e+00, -1.66295953e+00,\n",
       "        -4.00719190e-01, -3.15914125e-01, -7.75403787e-01,\n",
       "        -1.44481330e+00,  9.59184520e-01, -1.13096359e+00,\n",
       "        -9.43667561e-01, -1.22446428e+00,  7.71430453e-01,\n",
       "        -6.69287158e-01,  4.48052697e-01,  4.00849841e-01,\n",
       "        -1.14161147e+00, -4.35584236e-01,  1.82331348e+00,\n",
       "         4.65501841e-01,  4.31099883e-01, -3.32809272e-01,\n",
       "        -6.09863365e-01, -8.77786928e-01,  2.25694895e-01,\n",
       "         7.81448826e-01,  1.93800883e-01,  6.83745201e-01,\n",
       "        -4.52654285e-01,  2.16006366e-01,  7.16737516e-02,\n",
       "        -2.89794952e-01,  1.29970032e+00, -7.78820326e-01,\n",
       "        -1.24390034e+00,  1.24676730e-01, -6.61989608e-01,\n",
       "        -1.94820303e-01,  1.24502501e+00, -3.13208292e-01,\n",
       "        -9.35938031e-01, -1.12344782e-01,  1.24910813e+00,\n",
       "         1.12724302e-01,  1.97023065e+00, -7.35066584e-01,\n",
       "         1.43855301e+00, -2.97116400e-02, -3.25112691e-01,\n",
       "         2.09640209e+00,  3.52987375e-01]])"
      ]
     },
     "execution_count": 3,
     "metadata": {},
     "output_type": "execute_result"
    }
   ],
   "source": [
    "x"
   ]
  },
  {
   "cell_type": "code",
   "execution_count": 4,
   "id": "7569f865",
   "metadata": {},
   "outputs": [
    {
     "data": {
      "text/plain": [
       "(1, 500)"
      ]
     },
     "execution_count": 4,
     "metadata": {},
     "output_type": "execute_result"
    }
   ],
   "source": [
    "x.shape"
   ]
  },
  {
   "cell_type": "code",
   "execution_count": 5,
   "id": "ec9dfe5a",
   "metadata": {},
   "outputs": [
    {
     "data": {
      "text/plain": [
       "array([-1.82840195])"
      ]
     },
     "execution_count": 5,
     "metadata": {},
     "output_type": "execute_result"
    }
   ],
   "source": [
    "y"
   ]
  },
  {
   "cell_type": "code",
   "execution_count": 6,
   "id": "b71487a3",
   "metadata": {},
   "outputs": [],
   "source": [
    "model = linear_model.SGDRegressor()"
   ]
  },
  {
   "cell_type": "code",
   "execution_count": 7,
   "id": "23d8d477",
   "metadata": {},
   "outputs": [
    {
     "name": "stdout",
     "output_type": "stream",
     "text": [
      "0.0019943714141845703\n"
     ]
    }
   ],
   "source": [
    "start_time = time.time()\n",
    "\n",
    "model.partial_fit(X=x, y=y)\n",
    "\n",
    "elapsed_time = time.time() - start_time\n",
    "\n",
    "print(elapsed_time)"
   ]
  },
  {
   "cell_type": "code",
   "execution_count": 8,
   "id": "8560d799",
   "metadata": {},
   "outputs": [],
   "source": [
    "x2 = np.random.randn(n_samples, n_features)\n",
    "y2 = np.random.randn(n_samples)"
   ]
  },
  {
   "cell_type": "code",
   "execution_count": 9,
   "id": "7fc10932",
   "metadata": {},
   "outputs": [
    {
     "data": {
      "text/html": [
       "<style>#sk-container-id-1 {color: black;background-color: white;}#sk-container-id-1 pre{padding: 0;}#sk-container-id-1 div.sk-toggleable {background-color: white;}#sk-container-id-1 label.sk-toggleable__label {cursor: pointer;display: block;width: 100%;margin-bottom: 0;padding: 0.3em;box-sizing: border-box;text-align: center;}#sk-container-id-1 label.sk-toggleable__label-arrow:before {content: \"▸\";float: left;margin-right: 0.25em;color: #696969;}#sk-container-id-1 label.sk-toggleable__label-arrow:hover:before {color: black;}#sk-container-id-1 div.sk-estimator:hover label.sk-toggleable__label-arrow:before {color: black;}#sk-container-id-1 div.sk-toggleable__content {max-height: 0;max-width: 0;overflow: hidden;text-align: left;background-color: #f0f8ff;}#sk-container-id-1 div.sk-toggleable__content pre {margin: 0.2em;color: black;border-radius: 0.25em;background-color: #f0f8ff;}#sk-container-id-1 input.sk-toggleable__control:checked~div.sk-toggleable__content {max-height: 200px;max-width: 100%;overflow: auto;}#sk-container-id-1 input.sk-toggleable__control:checked~label.sk-toggleable__label-arrow:before {content: \"▾\";}#sk-container-id-1 div.sk-estimator input.sk-toggleable__control:checked~label.sk-toggleable__label {background-color: #d4ebff;}#sk-container-id-1 div.sk-label input.sk-toggleable__control:checked~label.sk-toggleable__label {background-color: #d4ebff;}#sk-container-id-1 input.sk-hidden--visually {border: 0;clip: rect(1px 1px 1px 1px);clip: rect(1px, 1px, 1px, 1px);height: 1px;margin: -1px;overflow: hidden;padding: 0;position: absolute;width: 1px;}#sk-container-id-1 div.sk-estimator {font-family: monospace;background-color: #f0f8ff;border: 1px dotted black;border-radius: 0.25em;box-sizing: border-box;margin-bottom: 0.5em;}#sk-container-id-1 div.sk-estimator:hover {background-color: #d4ebff;}#sk-container-id-1 div.sk-parallel-item::after {content: \"\";width: 100%;border-bottom: 1px solid gray;flex-grow: 1;}#sk-container-id-1 div.sk-label:hover label.sk-toggleable__label {background-color: #d4ebff;}#sk-container-id-1 div.sk-serial::before {content: \"\";position: absolute;border-left: 1px solid gray;box-sizing: border-box;top: 0;bottom: 0;left: 50%;z-index: 0;}#sk-container-id-1 div.sk-serial {display: flex;flex-direction: column;align-items: center;background-color: white;padding-right: 0.2em;padding-left: 0.2em;position: relative;}#sk-container-id-1 div.sk-item {position: relative;z-index: 1;}#sk-container-id-1 div.sk-parallel {display: flex;align-items: stretch;justify-content: center;background-color: white;position: relative;}#sk-container-id-1 div.sk-item::before, #sk-container-id-1 div.sk-parallel-item::before {content: \"\";position: absolute;border-left: 1px solid gray;box-sizing: border-box;top: 0;bottom: 0;left: 50%;z-index: -1;}#sk-container-id-1 div.sk-parallel-item {display: flex;flex-direction: column;z-index: 1;position: relative;background-color: white;}#sk-container-id-1 div.sk-parallel-item:first-child::after {align-self: flex-end;width: 50%;}#sk-container-id-1 div.sk-parallel-item:last-child::after {align-self: flex-start;width: 50%;}#sk-container-id-1 div.sk-parallel-item:only-child::after {width: 0;}#sk-container-id-1 div.sk-dashed-wrapped {border: 1px dashed gray;margin: 0 0.4em 0.5em 0.4em;box-sizing: border-box;padding-bottom: 0.4em;background-color: white;}#sk-container-id-1 div.sk-label label {font-family: monospace;font-weight: bold;display: inline-block;line-height: 1.2em;}#sk-container-id-1 div.sk-label-container {text-align: center;}#sk-container-id-1 div.sk-container {/* jupyter's `normalize.less` sets `[hidden] { display: none; }` but bootstrap.min.css set `[hidden] { display: none !important; }` so we also need the `!important` here to be able to override the default hidden behavior on the sphinx rendered scikit-learn.org. See: https://github.com/scikit-learn/scikit-learn/issues/21755 */display: inline-block !important;position: relative;}#sk-container-id-1 div.sk-text-repr-fallback {display: none;}</style><div id=\"sk-container-id-1\" class=\"sk-top-container\"><div class=\"sk-text-repr-fallback\"><pre>SGDRegressor()</pre><b>In a Jupyter environment, please rerun this cell to show the HTML representation or trust the notebook. <br />On GitHub, the HTML representation is unable to render, please try loading this page with nbviewer.org.</b></div><div class=\"sk-container\" hidden><div class=\"sk-item\"><div class=\"sk-estimator sk-toggleable\"><input class=\"sk-toggleable__control sk-hidden--visually\" id=\"sk-estimator-id-1\" type=\"checkbox\" checked><label for=\"sk-estimator-id-1\" class=\"sk-toggleable__label sk-toggleable__label-arrow\">SGDRegressor</label><div class=\"sk-toggleable__content\"><pre>SGDRegressor()</pre></div></div></div></div></div>"
      ],
      "text/plain": [
       "SGDRegressor()"
      ]
     },
     "execution_count": 9,
     "metadata": {},
     "output_type": "execute_result"
    }
   ],
   "source": [
    "model.partial_fit(X=x, y=y)"
   ]
  },
  {
   "cell_type": "markdown",
   "id": "b45b9d31",
   "metadata": {},
   "source": [
    "### Demo test for undersanding"
   ]
  },
  {
   "cell_type": "code",
   "execution_count": 10,
   "id": "215930dd",
   "metadata": {},
   "outputs": [
    {
     "data": {
      "text/plain": [
       "array([ 0.06310734, -1.86803546, -0.36498248,  0.64204474, -0.07431086])"
      ]
     },
     "execution_count": 10,
     "metadata": {},
     "output_type": "execute_result"
    }
   ],
   "source": [
    "np.random.randn(5)"
   ]
  },
  {
   "cell_type": "code",
   "execution_count": 11,
   "id": "0dee3ded",
   "metadata": {},
   "outputs": [
    {
     "data": {
      "text/plain": [
       "array([[-0.6250356 ,  0.55564371,  0.52399762,  0.08609455, -0.34973785],\n",
       "       [-0.070434  ,  0.87846315,  2.4856685 , -0.53253672, -2.70779763],\n",
       "       [-0.4265912 , -0.31243985,  2.54571165,  1.53873705, -0.38482718],\n",
       "       [ 0.38787382,  0.00417585, -1.96303484,  1.55210428, -0.34255808],\n",
       "       [ 1.36806897,  0.12294734, -0.85522047, -1.34824055, -0.20812927]])"
      ]
     },
     "execution_count": 11,
     "metadata": {},
     "output_type": "execute_result"
    }
   ],
   "source": [
    "np.random.randn(5, 5)"
   ]
  },
  {
   "cell_type": "code",
   "execution_count": 12,
   "id": "cbddeb46",
   "metadata": {},
   "outputs": [
    {
     "data": {
      "text/plain": [
       "array([[[-0.63146137, -0.73200907],\n",
       "        [-0.63036279,  0.24913651],\n",
       "        [ 0.54532791,  0.60788071]],\n",
       "\n",
       "       [[-0.25198782, -1.03368535],\n",
       "        [ 0.49209055, -0.19924517],\n",
       "        [ 3.09133828, -0.90420715]],\n",
       "\n",
       "       [[ 1.01540595,  0.37100095],\n",
       "        [ 0.38295522,  1.34932395],\n",
       "        [-0.43776268,  1.27286111]]])"
      ]
     },
     "execution_count": 12,
     "metadata": {},
     "output_type": "execute_result"
    }
   ],
   "source": [
    "np.random.randn(3,3,2)"
   ]
  }
 ],
 "metadata": {
  "kernelspec": {
   "display_name": "Python 3 (ipykernel)",
   "language": "python",
   "name": "python3"
  },
  "language_info": {
   "codemirror_mode": {
    "name": "ipython",
    "version": 3
   },
   "file_extension": ".py",
   "mimetype": "text/x-python",
   "name": "python",
   "nbconvert_exporter": "python",
   "pygments_lexer": "ipython3",
   "version": "3.10.5"
  }
 },
 "nbformat": 4,
 "nbformat_minor": 5
}
